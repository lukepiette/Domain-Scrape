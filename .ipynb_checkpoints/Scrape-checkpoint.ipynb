{
 "cells": [
  {
   "cell_type": "code",
   "execution_count": 1,
   "metadata": {},
   "outputs": [],
   "source": [
    "import requests\n",
    "import time\n",
    "import json\n",
    "import subprocess\n",
    "import threading"
   ]
  },
  {
   "cell_type": "code",
   "execution_count": 6,
   "metadata": {},
   "outputs": [],
   "source": [
    "from selenium import webdriver\n",
    "from selenium.webdriver.chrome.options import Options\n",
    "from webdriver_manager.chrome import ChromeDriverManager\n",
    "from selenium.webdriver.support.ui import WebDriverWait\n",
    "from selenium.webdriver.support import expected_conditions as EC\n",
    "from selenium.webdriver.common.by import By\n",
    "from selenium.common.exceptions import TimeoutException\n",
    "\n",
    "from bs4 import BeautifulSoup"
   ]
  },
  {
   "cell_type": "code",
   "execution_count": 7,
   "metadata": {},
   "outputs": [],
   "source": [
    "chrome_options = Options()\n",
    "expressvpnAmericas = ['Croatia','Canada','United States','Argentina','Brazil','Colombia','Chile','Mexico','Costa Rica','Ecuador']\n",
    "chrome_options.add_argument(\"--headless\")"
   ]
  },
  {
   "cell_type": "code",
   "execution_count": 8,
   "metadata": {},
   "outputs": [],
   "source": [
    "# Word types: noun, verb, adjective, adverbs\n",
    "# Syllables: 1,2,3,4\n",
    "def getDomains(wordType=\"noun\",syllable=1,last='',ext='.com'):\n",
    "    txt = open(f'./words/{wordType}s/{syllable}syllable{wordType}s.txt','r').read()\n",
    "    wordList = [i for i in txt.split('\\n')]\n",
    "    domaiList = [f'{word}{last}{ext}' for word in wordList]\n",
    "    return domaiList"
   ]
  },
  {
   "cell_type": "code",
   "execution_count": 9,
   "metadata": {},
   "outputs": [],
   "source": [
    "def headlessGodaddyGet(domainList,wordType,syllable):\n",
    "    driver = webdriver.Chrome(ChromeDriverManager().install(),options=chrome_options)\n",
    "    URList = ['https://ca.godaddy.com/domainsearch/find?checkAvail=1&domainToCheck='+i for i in domainList]\n",
    "    ext = domainList[0].split('.')[-1]\n",
    "    \n",
    "    for count in range(len(URList)):\n",
    "        driver.get(URList[count])\n",
    "\n",
    "        try:\n",
    "            classname = WebDriverWait(driver, 3).until(EC.presence_of_element_located((By.XPATH, \"//body/div[2]/div/div/div/div/div[2]/div[1]/div[1]\")))\n",
    "        except:\n",
    "            print('WE GOT BLOCKED FROM GODADDY TOO MANY REQUESTS NOOOO... sike I got a VPN mothafackas ;)')\n",
    "            \n",
    "            with open('status.txt','r') as STATUS:\n",
    "                status = STATUS.read()\n",
    "                STATUS.close()\n",
    "            \n",
    "            if status == '0':\n",
    "                with open('status.txt','w') as STATUS:\n",
    "                    STATUS.write('1')\n",
    "                    STATUS.close()\n",
    "                with open('country.txt','r') as COUNTRY:\n",
    "                    country = int(COUNTRY.read())\n",
    "                    COUNTRY.close() \n",
    "                    \n",
    "                cmd = subprocess.Popen([\"expressvpn\",\"connect\",expressvpnAmericas[country]], stdout=subprocess.PIPE)\n",
    "\n",
    "                with open('country.txt','w') as COUNTRY:\n",
    "                    COUNTRY.write(str(country+1))\n",
    "                    COUNTRY.close()\n",
    "                with open('status.txt','w') as STATUS:\n",
    "                    STATUS.write('0')\n",
    "                    STATUS.close()\n",
    "                    \n",
    "            continue\n",
    "            \n",
    "        HTML = BeautifulSoup(driver.page_source.encode(\"utf-8\"))\n",
    "        price = 'unavailable'\n",
    "                \n",
    "            \n",
    "        if f'{domainList[count]}</span> is taken' in str(HTML):\n",
    "            print(f'http://{domainList[count]} taken\\n')\n",
    "            \n",
    "        elif f'{domainList[count]}</span> is unavailable' in str(HTML):\n",
    "            print(f'http://{domainList[count]} unavailable\\n')\n",
    "        \n",
    "        elif f'{domainList[count]}</span> is available' in str(HTML):\n",
    "            try:\n",
    "                startPrice = HTML.findAll(\"div\", {\"class\": \"text-xs-left price-block\"})[0]\n",
    "                subSpan = startPrice.findChildren(\"span\" , recursive=False)[0]\n",
    "                subDiv = subSpan.findChildren(\"div\" , recursive=False)[0]\n",
    "                subSpan2 = subDiv.findChildren(\"span\" , recursive=False)[0]\n",
    "\n",
    "                price = ''.join([i for i in str(subSpan2) if 48 < ord(i) < 58 or i == '.'])[1:]\n",
    "                print(f'http://{domainList[count]} Available!')\n",
    "                print(f'Price: {price}\\n')\n",
    "            except:\n",
    "                print(f'http://{domainList[count]} Available but failed to load...')            \n",
    "        else:\n",
    "            print(f'http://{domainList[count]}')\n",
    "            print('Weird, didnt find anything... --------------\\n')\n",
    "            \n",
    "        with open(f'domains/{ext}/{wordType}-{syllable}-{ext}.csv','a') as CSV:\n",
    "            CSV.write(domainList[count]+','+price+'\\n')\n",
    "            CSV.close()\n",
    "    \n",
    "    driver.quit()"
   ]
  },
  {
   "cell_type": "code",
   "execution_count": 11,
   "metadata": {},
   "outputs": [],
   "source": [
    "def masterGodaddyGet(ext,syllables=[2,3,4],last='',wordTypes=['verb']):\n",
    "    for syllab in syllables:\n",
    "        for typeWord in wordTypes:\n",
    "            domainList = getDomains(syllable=syllab,last='',ext=ext,wordType=typeWord)\n",
    "            headlessGodaddyGet(domainList,typeWord,syllab)"
   ]
  },
  {
   "cell_type": "code",
   "execution_count": 12,
   "metadata": {},
   "outputs": [],
   "source": [
    "app = threading.Thread(target=masterGodaddyGet, args=('.app',))\n",
    "com = threading.Thread(target=masterGodaddyGet, args=('.com',))\n",
    "io = threading.Thread(target=masterGodaddyGet, args=('.io',))\n",
    "co = threading.Thread(target=masterGodaddyGet, args=('.co',))"
   ]
  },
  {
   "cell_type": "code",
   "execution_count": 13,
   "metadata": {},
   "outputs": [],
   "source": [
    "def lazerGodaddyGet(ext,syllable=2,last='',wordType='noun'):\n",
    "    domainList = getDomains(syllable=syllable,last='',ext=ext,wordType=wordType)\n",
    "    headlessGodaddyGet(domainList,wordType,syllable)"
   ]
  },
  {
   "cell_type": "code",
   "execution_count": 14,
   "metadata": {},
   "outputs": [],
   "source": [
    "app = threading.Thread(target=lazerGodaddyGet, args=('.app',))\n",
    "com = threading.Thread(target=lazerGodaddyGet, args=('.com',))\n",
    "io = threading.Thread(target=lazerGodaddyGet, args=('.io',))\n",
    "co = threading.Thread(target=lazerGodaddyGet, args=('.co',))"
   ]
  },
  {
   "cell_type": "code",
   "execution_count": 16,
   "metadata": {
    "scrolled": false
   },
   "outputs": [
    {
     "ename": "RuntimeError",
     "evalue": "threads can only be started once",
     "output_type": "error",
     "traceback": [
      "\u001b[0;31m---------------------------------------------------------------------------\u001b[0m",
      "\u001b[0;31mRuntimeError\u001b[0m                              Traceback (most recent call last)",
      "\u001b[0;32m<ipython-input-16-ce8fbfe5c430>\u001b[0m in \u001b[0;36m<module>\u001b[0;34m\u001b[0m\n\u001b[0;32m----> 1\u001b[0;31m \u001b[0mapp\u001b[0m\u001b[0;34m.\u001b[0m\u001b[0mstart\u001b[0m\u001b[0;34m(\u001b[0m\u001b[0;34m)\u001b[0m\u001b[0;34m\u001b[0m\u001b[0;34m\u001b[0m\u001b[0m\n\u001b[0m\u001b[1;32m      2\u001b[0m \u001b[0mcom\u001b[0m\u001b[0;34m.\u001b[0m\u001b[0mstart\u001b[0m\u001b[0;34m(\u001b[0m\u001b[0;34m)\u001b[0m\u001b[0;34m\u001b[0m\u001b[0;34m\u001b[0m\u001b[0m\n\u001b[1;32m      3\u001b[0m \u001b[0mio\u001b[0m\u001b[0;34m.\u001b[0m\u001b[0mstart\u001b[0m\u001b[0;34m(\u001b[0m\u001b[0;34m)\u001b[0m\u001b[0;34m\u001b[0m\u001b[0;34m\u001b[0m\u001b[0m\n\u001b[1;32m      4\u001b[0m \u001b[0mco\u001b[0m\u001b[0;34m.\u001b[0m\u001b[0mstart\u001b[0m\u001b[0;34m(\u001b[0m\u001b[0;34m)\u001b[0m\u001b[0;34m\u001b[0m\u001b[0;34m\u001b[0m\u001b[0m\n",
      "\u001b[0;32m~/anaconda3/lib/python3.7/threading.py\u001b[0m in \u001b[0;36mstart\u001b[0;34m(self)\u001b[0m\n\u001b[1;32m    841\u001b[0m \u001b[0;34m\u001b[0m\u001b[0m\n\u001b[1;32m    842\u001b[0m         \u001b[0;32mif\u001b[0m \u001b[0mself\u001b[0m\u001b[0;34m.\u001b[0m\u001b[0m_started\u001b[0m\u001b[0;34m.\u001b[0m\u001b[0mis_set\u001b[0m\u001b[0;34m(\u001b[0m\u001b[0;34m)\u001b[0m\u001b[0;34m:\u001b[0m\u001b[0;34m\u001b[0m\u001b[0;34m\u001b[0m\u001b[0m\n\u001b[0;32m--> 843\u001b[0;31m             \u001b[0;32mraise\u001b[0m \u001b[0mRuntimeError\u001b[0m\u001b[0;34m(\u001b[0m\u001b[0;34m\"threads can only be started once\"\u001b[0m\u001b[0;34m)\u001b[0m\u001b[0;34m\u001b[0m\u001b[0;34m\u001b[0m\u001b[0m\n\u001b[0m\u001b[1;32m    844\u001b[0m         \u001b[0;32mwith\u001b[0m \u001b[0m_active_limbo_lock\u001b[0m\u001b[0;34m:\u001b[0m\u001b[0;34m\u001b[0m\u001b[0;34m\u001b[0m\u001b[0m\n\u001b[1;32m    845\u001b[0m             \u001b[0m_limbo\u001b[0m\u001b[0;34m[\u001b[0m\u001b[0mself\u001b[0m\u001b[0;34m]\u001b[0m \u001b[0;34m=\u001b[0m \u001b[0mself\u001b[0m\u001b[0;34m\u001b[0m\u001b[0;34m\u001b[0m\u001b[0m\n",
      "\u001b[0;31mRuntimeError\u001b[0m: threads can only be started once"
     ]
    }
   ],
   "source": [
    "app.start()\n",
    "com.start()\n",
    "io.start()\n",
    "co.start()"
   ]
  },
  {
   "cell_type": "code",
   "execution_count": 15,
   "metadata": {},
   "outputs": [
    {
     "ename": "AttributeError",
     "evalue": "'Thread' object has no attribute 'stop'",
     "output_type": "error",
     "traceback": [
      "\u001b[0;31m---------------------------------------------------------------------------\u001b[0m",
      "\u001b[0;31mAttributeError\u001b[0m                            Traceback (most recent call last)",
      "\u001b[0;32m<ipython-input-15-664394c5bfd9>\u001b[0m in \u001b[0;36m<module>\u001b[0;34m\u001b[0m\n\u001b[0;32m----> 1\u001b[0;31m \u001b[0mapp\u001b[0m\u001b[0;34m.\u001b[0m\u001b[0mstop\u001b[0m\u001b[0;34m(\u001b[0m\u001b[0;34m)\u001b[0m\u001b[0;34m\u001b[0m\u001b[0;34m\u001b[0m\u001b[0m\n\u001b[0m\u001b[1;32m      2\u001b[0m \u001b[0mcom\u001b[0m\u001b[0;34m.\u001b[0m\u001b[0mstop\u001b[0m\u001b[0;34m(\u001b[0m\u001b[0;34m)\u001b[0m\u001b[0;34m\u001b[0m\u001b[0;34m\u001b[0m\u001b[0m\n\u001b[1;32m      3\u001b[0m \u001b[0mio\u001b[0m\u001b[0;34m.\u001b[0m\u001b[0mstop\u001b[0m\u001b[0;34m(\u001b[0m\u001b[0;34m)\u001b[0m\u001b[0;34m\u001b[0m\u001b[0;34m\u001b[0m\u001b[0m\n\u001b[1;32m      4\u001b[0m \u001b[0mco\u001b[0m\u001b[0;34m.\u001b[0m\u001b[0mstop\u001b[0m\u001b[0;34m(\u001b[0m\u001b[0;34m)\u001b[0m\u001b[0;34m\u001b[0m\u001b[0;34m\u001b[0m\u001b[0m\n",
      "\u001b[0;31mAttributeError\u001b[0m: 'Thread' object has no attribute 'stop'"
     ]
    },
    {
     "name": "stdout",
     "output_type": "stream",
     "text": [
      "http://abduce.io Available!\n",
      "Price: 7.96\n",
      "\n"
     ]
    }
   ],
   "source": [
    "app.stop()\n",
    "com.stop()\n",
    "io.stop()\n",
    "co.stop()"
   ]
  },
  {
   "cell_type": "code",
   "execution_count": null,
   "metadata": {},
   "outputs": [],
   "source": []
  }
 ],
 "metadata": {
  "kernelspec": {
   "display_name": "Python 3",
   "language": "python",
   "name": "python3"
  },
  "language_info": {
   "codemirror_mode": {
    "name": "ipython",
    "version": 3
   },
   "file_extension": ".py",
   "mimetype": "text/x-python",
   "name": "python",
   "nbconvert_exporter": "python",
   "pygments_lexer": "ipython3",
   "version": "3.7.3"
  }
 },
 "nbformat": 4,
 "nbformat_minor": 2
}
